{
 "cells": [
  {
   "cell_type": "code",
   "execution_count": 1,
   "id": "5aa96910",
   "metadata": {},
   "outputs": [],
   "source": [
    "import joblib"
   ]
  },
  {
   "cell_type": "code",
   "execution_count": 2,
   "id": "17c3f185",
   "metadata": {},
   "outputs": [],
   "source": [
    "mind = joblib.load('marks.pk1')\n"
   ]
  },
  {
   "cell_type": "code",
   "execution_count": null,
   "id": "402aa6a1",
   "metadata": {},
   "outputs": [],
   "source": []
  }
 ],
 "metadata": {
  "kernelspec": {
   "display_name": "Python 3",
   "language": "python",
   "name": "python3"
  },
  "language_info": {
   "codemirror_mode": {
    "name": "ipython",
    "version": 3
   },
   "file_extension": ".py",
   "mimetype": "text/x-python",
   "name": "python",
   "nbconvert_exporter": "python",
   "pygments_lexer": "ipython3",
   "version": "3.8.8"
  }
 },
 "nbformat": 4,
 "nbformat_minor": 5
}
