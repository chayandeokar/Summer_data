{
 "cells": [
  {
   "cell_type": "code",
   "execution_count": null,
   "id": "41c5091c",
   "metadata": {},
   "outputs": [],
   "source": [
    "print(\"\"\"\n",
    "Press 1: to check date\n",
    "Press 2: to see cal\n",
    "Press 3: to launch WMP\n",
    "Press 4: to start chrome browser\n",
    "\"\"\")"
   ]
  },
  {
   "cell_type": "code",
   "execution_count": 1,
   "id": "7c0aacf8",
   "metadata": {},
   "outputs": [],
   "source": [
    "import subprocess"
   ]
  },
  {
   "cell_type": "code",
   "execution_count": 26,
   "id": "9cf2187d",
   "metadata": {},
   "outputs": [],
   "source": [
    "import spacy"
   ]
  },
  {
   "cell_type": "code",
   "execution_count": 27,
   "id": "c844f998",
   "metadata": {},
   "outputs": [],
   "source": [
    "english = spacy.load(\"en_core_web_sm\")"
   ]
  },
  {
   "cell_type": "code",
   "execution_count": null,
   "id": "e5d4e7be",
   "metadata": {},
   "outputs": [],
   "source": [
    "ch = input(\"enter ur choice : \")"
   ]
  },
  {
   "cell_type": "code",
   "execution_count": 136,
   "id": "40209e87",
   "metadata": {},
   "outputs": [],
   "source": [
    "# wake word: hey alexa\n",
    "# wake = ch.split()[0:2]"
   ]
  },
  {
   "cell_type": "code",
   "execution_count": 152,
   "id": "b5f7aa91",
   "metadata": {},
   "outputs": [],
   "source": [
    "wakeup = english(ch)"
   ]
  },
  {
   "cell_type": "code",
   "execution_count": 153,
   "id": "e5eabc2a",
   "metadata": {},
   "outputs": [
    {
     "name": "stdout",
     "output_type": "stream",
     "text": [
      "hey\n",
      "vimal\n",
      ",\n",
      "can\n",
      "you\n",
      " \n",
      "run\n",
      "date\n",
      "command\n",
      "for\n",
      "me\n"
     ]
    }
   ],
   "source": [
    "for i in wakeup:\n",
    "    print(i.text)"
   ]
  },
  {
   "cell_type": "code",
   "execution_count": 156,
   "id": "bc236ddf",
   "metadata": {},
   "outputs": [],
   "source": [
    "x = doc4[0]"
   ]
  },
  {
   "cell_type": "code",
   "execution_count": 157,
   "id": "4c6bac26",
   "metadata": {},
   "outputs": [
    {
     "data": {
      "text/plain": [
       "spacy.tokens.token.Token"
      ]
     },
     "execution_count": 157,
     "metadata": {},
     "output_type": "execute_result"
    }
   ],
   "source": [
    "type(x)"
   ]
  },
  {
   "cell_type": "code",
   "execution_count": null,
   "id": "a9591ad3",
   "metadata": {},
   "outputs": [],
   "source": []
  },
  {
   "cell_type": "code",
   "execution_count": 151,
   "id": "14b3441e",
   "metadata": {},
   "outputs": [
    {
     "data": {
      "text/plain": [
       "vimal"
      ]
     },
     "execution_count": 151,
     "metadata": {},
     "output_type": "execute_result"
    }
   ],
   "source": [
    "doc4[1]"
   ]
  },
  {
   "cell_type": "code",
   "execution_count": null,
   "id": "fe66aa6b",
   "metadata": {},
   "outputs": [],
   "source": []
  },
  {
   "cell_type": "code",
   "execution_count": null,
   "id": "c1029c1a",
   "metadata": {},
   "outputs": [],
   "source": []
  },
  {
   "cell_type": "code",
   "execution_count": 137,
   "id": "eb36e165",
   "metadata": {},
   "outputs": [
    {
     "data": {
      "text/plain": [
       "'hey vimal, can you  run date command for me'"
      ]
     },
     "execution_count": 137,
     "metadata": {},
     "output_type": "execute_result"
    }
   ],
   "source": [
    "ch"
   ]
  },
  {
   "cell_type": "code",
   "execution_count": 138,
   "id": "6c6b3a9b",
   "metadata": {},
   "outputs": [],
   "source": [
    "doc1 = english(ch)"
   ]
  },
  {
   "cell_type": "code",
   "execution_count": 139,
   "id": "71d1c134",
   "metadata": {},
   "outputs": [],
   "source": [
    "y = True"
   ]
  },
  {
   "cell_type": "code",
   "execution_count": 140,
   "id": "5321bdfc",
   "metadata": {},
   "outputs": [],
   "source": [
    "for i in doc1:\n",
    "    # print(i.text, i.pos_ , i.dep_)\n",
    "    if i.dep_ == \"neg\":\n",
    "        y = False"
   ]
  },
  {
   "cell_type": "code",
   "execution_count": 141,
   "id": "f893a2d9",
   "metadata": {},
   "outputs": [
    {
     "data": {
      "text/plain": [
       "True"
      ]
     },
     "execution_count": 141,
     "metadata": {},
     "output_type": "execute_result"
    }
   ],
   "source": [
    "y"
   ]
  },
  {
   "cell_type": "code",
   "execution_count": null,
   "id": "c6e12e0e",
   "metadata": {},
   "outputs": [],
   "source": []
  },
  {
   "cell_type": "code",
   "execution_count": null,
   "id": "3c631b6a",
   "metadata": {},
   "outputs": [],
   "source": []
  },
  {
   "cell_type": "code",
   "execution_count": 142,
   "id": "d9d0111d",
   "metadata": {},
   "outputs": [
    {
     "name": "stdout",
     "output_type": "stream",
     "text": [
      "run run\n"
     ]
    }
   ],
   "source": [
    "for i in doc1:\n",
    "    # print(i.text, i.pos_)\n",
    "    if i.pos_ == \"VERB\":\n",
    "        print(i.text, i.lemma_)\n",
    "        myaction = i.lemma_"
   ]
  },
  {
   "cell_type": "code",
   "execution_count": 143,
   "id": "5efe0c53",
   "metadata": {},
   "outputs": [
    {
     "data": {
      "text/plain": [
       "'run'"
      ]
     },
     "execution_count": 143,
     "metadata": {},
     "output_type": "execute_result"
    }
   ],
   "source": [
    "myaction"
   ]
  },
  {
   "cell_type": "code",
   "execution_count": 154,
   "id": "58a5fd92",
   "metadata": {},
   "outputs": [
    {
     "ename": "TypeError",
     "evalue": "Argument 'other' has incorrect type (expected spacy.tokens.token.Token, got str)",
     "output_type": "error",
     "traceback": [
      "\u001b[1;31m---------------------------------------------------------------------------\u001b[0m",
      "\u001b[1;31mTypeError\u001b[0m                                 Traceback (most recent call last)",
      "\u001b[1;32m<ipython-input-154-7f8f02f017d8>\u001b[0m in \u001b[0;36m<module>\u001b[1;34m\u001b[0m\n\u001b[1;32m----> 1\u001b[1;33m \u001b[1;32mif\u001b[0m \u001b[0mwakeup\u001b[0m\u001b[1;33m[\u001b[0m\u001b[1;36m0\u001b[0m\u001b[1;33m]\u001b[0m \u001b[1;33m==\u001b[0m \u001b[1;34m\"hey\"\u001b[0m \u001b[1;32mand\u001b[0m \u001b[0mwakeup\u001b[0m\u001b[1;33m[\u001b[0m\u001b[1;36m1\u001b[0m\u001b[1;33m]\u001b[0m \u001b[1;33m==\u001b[0m \u001b[1;34m\"vimal\"\u001b[0m\u001b[1;33m:\u001b[0m\u001b[1;33m\u001b[0m\u001b[1;33m\u001b[0m\u001b[0m\n\u001b[0m\u001b[0;32m      2\u001b[0m \u001b[1;33m\u001b[0m\u001b[0m\n\u001b[0;32m      3\u001b[0m     \u001b[1;32mif\u001b[0m \u001b[1;34m\"date\"\u001b[0m \u001b[1;32min\u001b[0m \u001b[0mch\u001b[0m  \u001b[1;32mand\u001b[0m \u001b[1;34m\"run\"\u001b[0m \u001b[1;32min\u001b[0m \u001b[0mmyaction\u001b[0m \u001b[1;32mand\u001b[0m \u001b[0my\u001b[0m\u001b[1;33m:\u001b[0m\u001b[1;33m\u001b[0m\u001b[1;33m\u001b[0m\u001b[0m\n\u001b[0;32m      4\u001b[0m         \u001b[0mprint\u001b[0m\u001b[1;33m(\u001b[0m\u001b[0msubprocess\u001b[0m\u001b[1;33m.\u001b[0m\u001b[0mgetoutput\u001b[0m\u001b[1;33m(\u001b[0m\u001b[1;34m\"date /t\"\u001b[0m\u001b[1;33m)\u001b[0m\u001b[1;33m)\u001b[0m\u001b[1;33m\u001b[0m\u001b[1;33m\u001b[0m\u001b[0m\n\u001b[0;32m      5\u001b[0m     \u001b[1;32melif\u001b[0m \u001b[1;34m\"calender\"\u001b[0m \u001b[1;32min\u001b[0m \u001b[0mch\u001b[0m  \u001b[1;32mand\u001b[0m \u001b[1;34m\"run\"\u001b[0m \u001b[1;32min\u001b[0m \u001b[0mmyaction\u001b[0m\u001b[1;33m:\u001b[0m\u001b[1;33m\u001b[0m\u001b[1;33m\u001b[0m\u001b[0m\n",
      "\u001b[1;31mTypeError\u001b[0m: Argument 'other' has incorrect type (expected spacy.tokens.token.Token, got str)"
     ]
    }
   ],
   "source": [
    "if wakeup[0] == \"hey\" and wakeup[1] == \"vimal\":\n",
    "\n",
    "    if \"date\" in ch  and \"run\" in myaction and y:\n",
    "        print(subprocess.getoutput(\"date /t\"))\n",
    "    elif \"calender\" in ch  and \"run\" in myaction:\n",
    "        print(\"cal\")\n",
    "    elif \"player\" in ch  and \"run\" in myaction:\n",
    "        subprocess.getoutput(\"wmplayer\")\n",
    "    elif \"chrome\" in ch  and \"run\" in myaction:\n",
    "        subprocess.getoutput(\"chrome\")\n",
    "    else:\n",
    "        print(\"not supported\")\n",
    "        \n",
    "else:\n",
    "    print(\"dont find wake up word ..\")"
   ]
  },
  {
   "cell_type": "code",
   "execution_count": null,
   "id": "3c2c25cf",
   "metadata": {},
   "outputs": [],
   "source": []
  },
  {
   "cell_type": "code",
   "execution_count": null,
   "id": "1c0073a9",
   "metadata": {},
   "outputs": [],
   "source": []
  }
 ],
 "metadata": {
  "kernelspec": {
   "display_name": "Python 3",
   "language": "python",
   "name": "python3"
  },
  "language_info": {
   "codemirror_mode": {
    "name": "ipython",
    "version": 3
   },
   "file_extension": ".py",
   "mimetype": "text/x-python",
   "name": "python",
   "nbconvert_exporter": "python",
   "pygments_lexer": "ipython3",
   "version": "3.8.8"
  }
 },
 "nbformat": 4,
 "nbformat_minor": 5
}
